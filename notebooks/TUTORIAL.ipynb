{
 "cells": [
  {
   "cell_type": "markdown",
   "metadata": {},
   "source": [
    "# Tutorial LipiMap\n",
    "## Biologically-Informed VAE"
   ]
  },
  {
   "cell_type": "code",
   "execution_count": null,
   "metadata": {},
   "outputs": [],
   "source": [
    "# Imports\n",
    "import warnings\n",
    "warnings.simplefilter(action='ignore')\n",
    "%reload_ext autoreload\n",
    "%autoreload 2\n",
    "\n",
    "# import scanpy as sc\n",
    "import torch\n",
    "import pandas as pd\n",
    "import numpy as np\n",
    "import os\n",
    "\n",
    "# sc.set_figure_params(frameon=False)\n",
    "# sc.set_figure_params(dpi=200)\n",
    "# sc.set_figure_params(figsize=(4, 4))\n",
    "torch.set_printoptions(precision=3, sci_mode=False, edgeitems=7)"
   ]
  },
  {
   "cell_type": "markdown",
   "metadata": {},
   "source": [
    "### Folder Configuration"
   ]
  },
  {
   "cell_type": "code",
   "execution_count": null,
   "metadata": {},
   "outputs": [],
   "source": [
    "project_name = \"lipiMap\"\n",
    "project_path = \"..\"\n",
    "\n",
    "src_path = os.path.join(project_path, project_name)\n",
    "\n",
    "LBA_path = os.path.join(src_path, \"data/LBA_Data\")\n",
    "LION_path = os.path.join(src_path, \"data/LION_Data\")\n",
    "Linex_path = os.path.join(src_path, \"data/Linex_Data\")\n",
    "masks_path = os.path.join(src_path, \"data/masks\")\n",
    "\n",
    "results_path = os.path.join(project_path, \"results\")\n",
    "\n",
    "directories = [src_path, results_path, LBA_path, LION_path, Linex_path,  masks_path]\n",
    "for directory in directories:\n",
    "    if not os.path.exists(directory):\n",
    "        os.makedirs(directory)"
   ]
  },
  {
   "cell_type": "code",
   "execution_count": null,
   "metadata": {},
   "outputs": [],
   "source": [
    "dataset_name = '20241213_LBA_brain2'\n",
    "\n",
    "# Depending on the dataset, the initial and final formats can be 'log', 'exp' or 'norm_exp'\n",
    "initial_format = 'exp'\n",
    "final_format = 'norm_exp'"
   ]
  },
  {
   "cell_type": "markdown",
   "metadata": {},
   "source": [
    "## Load MALDI-MSI data\n",
    "MALDI-MSI data are loaded and processed by the `LBADataHandler` class ([LBADataHandler docs](../lipiMap/data/data_handlers/LBA_README.md))."
   ]
  },
  {
   "cell_type": "code",
   "execution_count": null,
   "metadata": {},
   "outputs": [],
   "source": [
    "# Input Data Loading and Processing\n",
    "from lipiMap.data_handlers.LBA import LBADataHandler\n",
    "\n",
    "# Load and process data\n",
    "df = pd.read_hdf(os.path.join(LBA_path, f\"{dataset_name}.h5ad\"), key='table')\n",
    "\n",
    "data_handler = LBADataHandler(df=df, \n",
    "                              masks_path=masks_path, \n",
    "                              initial_format=initial_format, \n",
    "                              final_format=final_format)\n",
    "\n",
    "# Save the .lmt file containing the lipid family information\n",
    "# This file will be used for creating the binary mask in the latent space referring to the lipid families\n",
    "# Please be aware that the .lmt file is saved with the standard name 'LBA_lipid_families.lmt' in the masks_path directory\n",
    "LBA_mask_name = 'lipid_families'\n",
    "data_handler.create_family_lmt()\n",
    "\n",
    "# Store the data into anndata object\n",
    "adata = data_handler.to_anndata()\n",
    "\n",
    "del df\n",
    "\n",
    "adata"
   ]
  },
  {
   "cell_type": "markdown",
   "metadata": {},
   "source": [
    "## Process the Lipid Ontology database\n",
    "The Lipid Ontology database is processed and integrated with the input data with the `LIONDataHandler` class ([LIONDataHandler docs](../lipiMap/dataset/data_handlers/LION_README.md))"
   ]
  },
  {
   "cell_type": "code",
   "execution_count": null,
   "metadata": {},
   "outputs": [],
   "source": [
    "# LION Data\n",
    "from lipiMap.data_handlers.LION import LIONDataHandler\n",
    "\n",
    "LION_data_handler = LIONDataHandler(LION_path, masks_path)\n",
    "data = LION_data_handler.tabular_LION_database()\n",
    "cropped_data = LION_data_handler.filter_and_aggregate(data=data, refinement_level=4)\n",
    "\n",
    "# Be sure that the LION mask name follows the actual categories included while filtering and aggregating the LION database.\n",
    "# For example, if all macro_categories and micro_categories are included, the mask name should be 'full'.\n",
    "# Otherwise, the LION_mask_name could be cellularcomponent, function, lipidclass, physicochemical, etc.\n",
    "LION_mask_name = 'full'\n",
    "\n",
    "# Please be aware that the .lmt file is saved with the prefix 'LION_<LION_mask_name>.lmt' in the masks_path directory\n",
    "# If you want to create multiple masks, you can change the LION_mask_name and run the following line again\n",
    "LION_data_handler.create_ontology_lmt(adata.var_names, cropped_data, save_name=f'{LION_mask_name}')"
   ]
  },
  {
   "cell_type": "markdown",
   "metadata": {},
   "source": [
    "## Linear Decoder Mask Generation\n",
    "\n",
    "The decoder mask is a binary matrix (containing only 0s and 1s) that maps the relationship between lipids and lipid programs.\n",
    "The mask is generated from `.lmt` (Lipid Matrix Transposed) files, which store lipid program memberships.\n",
    "\n",
    "For more details about .lmt files, refer to `LBADataHandler.create_family_lmt()`, `LIONDataHandler.create_ontology_lmt()`, and `LinexDataHandler.create_reactions_lmt()`\n",
    "\n",
    "At the end of LBA data, LION data and Linex data pre-processing. the `mask_path` will contain multiple `.lmt` files describing independently the membership of lipids to different lipid programs (lipid families, categories in LION database and possible clusters based on biochemical reactions).\n",
    "\n",
    "The final latent space can be contructed *concatenating* these files based on the user necessities."
   ]
  },
  {
   "cell_type": "code",
   "execution_count": null,
   "metadata": {},
   "outputs": [],
   "source": [
    "from lipiMap.utils.annotations import add_annotations\n",
    "\n",
    "# The user can select the masks to be included in the latent space\n",
    "# Please make sure that the names should match the .lmt files present in the masks_path directory\n",
    "masks_included = [\n",
    "    'LBA_lipid_families', # LBA_mask_name\n",
    "    'LION_full',          # LION_mask_name\n",
    "    ]\n",
    "\n",
    "# The add_annotations function will create a binary mask based on the selected masks_included\n",
    "# Both the single masks for each entry of masks_included and the combined mask will be saved in the adata.varm attribute\n",
    "# Moreover, the function adds the names of the lipid programs to the adata.uns attribute\n",
    "add_annotations(adata=adata, \n",
    "                masks_path=masks_path,\n",
    "                masks=masks_included,\n",
    "                min_lipids=2,)\n",
    "\n",
    "adata"
   ]
  },
  {
   "cell_type": "markdown",
   "metadata": {},
   "source": [
    "Storing both the single binary matrices and the merged one is obviously redundant, but it is done for future scenarios where \"dynamical mask-wise training\" could possibly be implemented.\n",
    "\n",
    "Once all the binary masks are stored in the adata object (`adata.varm`), the user selects the actual `mask_framework` that is about to be used to design the latent space."
   ]
  },
  {
   "cell_type": "code",
   "execution_count": null,
   "metadata": {},
   "outputs": [],
   "source": [
    "mask_framework = 'all' # all blocks included in the latent space\n",
    "\n",
    "# Set the minimum number of lipid programs per lipid \n",
    "# and remove lipids that do not meet this criterion\n",
    "min_lipid_programs = 2\n",
    "adata._inplace_subset_var(adata.varm[mask_framework].sum(1)>=min_lipid_programs)\n",
    "\n",
    "print(f\"Number of lipids after filtering: {adata.varm[mask_framework].shape[0]}\")\n",
    "print(f\"Number of lipid programs after filtering: {adata.varm[mask_framework].shape[1]}\")\n",
    "print(f\"Shape of the binary mask: {adata.varm[mask_framework].shape}\")\n",
    "\n",
    "adata"
   ]
  },
  {
   "cell_type": "markdown",
   "metadata": {},
   "source": [
    "### Additional processing of the latent space"
   ]
  },
  {
   "cell_type": "code",
   "execution_count": null,
   "metadata": {},
   "outputs": [],
   "source": [
    "from lipiMap.utils.annotations import manual_programs_removal\n",
    "\n",
    "# Based on the biological context, the user can select manually the lipid programs to be removed\n",
    "programs_to_remove = [\n",
    "            'C16:0',\n",
    "            'C18:0',\n",
    "            'C18:1',\n",
    "            'C18:2',\n",
    "            'C20:4',\n",
    "            'fatty acid with 16 carbons',\n",
    "            'fatty acid with 18 carbons',\n",
    "            'fatty acid with 20 carbons',\n",
    "            'fatty acid with 22 carbons',\n",
    "            'saturated fatty acid',\n",
    "            'monounsaturated fatty_acid',\n",
    "            'fatty acid with 2 double bonds',\n",
    "            'fatty acid with 3 double bonds',\n",
    "            'fatty acid with 4 double bonds',\n",
    "            'fatty acid with 5 double bonds',\n",
    "            'fatty acid with 6 double bonds',\n",
    "            'membrane component',\n",
    "            ]\n",
    "\n",
    "manual_programs_removal(adata, mask_framework, programs_to_remove)"
   ]
  },
  {
   "cell_type": "code",
   "execution_count": null,
   "metadata": {},
   "outputs": [],
   "source": [
    "# sections_to_remove = [6, 10, 13, 20, 25]\n",
    "# manual_sections_removal(adata, sections_to_remove)"
   ]
  },
  {
   "cell_type": "code",
   "execution_count": null,
   "metadata": {},
   "outputs": [],
   "source": [
    "from lipiMap.utils.annotations import remove_latent_collinearity\n",
    "\n",
    "# Depending on the amount of annotated lipids in input data, different lipid programs may end up having the very same lipids. \n",
    "# For this reason, to avoid latent space collinearity, it is possible to merge all the LPs that are indistinguishable.\n",
    "# Two LPs are considered to be collinear when their Hamming distance is zero.\n",
    "\n",
    "remove_latent_collinearity(adata, mask_framework)\n",
    "\n",
    "print(f\"Number of lipid programs after collinearity removal: {adata.varm[mask_framework].shape[1]}\")\n",
    "print(f\"Shape of the binary mask: {adata.varm[mask_framework].shape}\")\n",
    "\n",
    "adata"
   ]
  },
  {
   "cell_type": "markdown",
   "metadata": {},
   "source": [
    "### Representation Assessment Analysis\n",
    "\n",
    "We assess lipid representation by comparing the annotated lipids in our dataset against the comprehensive LION database. This evaluation is quantified through an **overall importance score**, which is composed of three distinct weighted components:\n",
    "\n",
    "- `representation_score` (75% weight): Measures the ratio of annotated lipids in a Lipid Program (LP) to the total lipids in that LP within the LION database. This score directly assesses how well each LP is represented in our dataset. Scores stored in `adata.uns['representation_score']`.\n",
    "\n",
    "- `exclusivity_score` (15% weight): Indicates the significance of an LP in the reconstruction process of its lipids. LPs associated with fewer lipids receive higher scores, emphasizing their unique contributions to lipid reconstruction. Scores stored in `adata.uns['exclusivity_score']`.\n",
    "\n",
    "- `density_score` (10% weight): Penalizes deviations from the ideal LP density, preset at 30%. This metric ensures that the contributions of LPs to lipid reconstruction are neither too sparse nor too concentrated, promoting an optimal spread across the dataset. Scores stored in `adata.uns['density_score']`."
   ]
  },
  {
   "cell_type": "code",
   "execution_count": null,
   "metadata": {},
   "outputs": [],
   "source": [
    "from lipiMap.utils.annotations import compute_representation_score\n",
    "\n",
    "compute_representation_score(adata, LION_data_handler.lipid_programs, data, mask_framework)\n",
    "# adata.uns['representation_score']"
   ]
  },
  {
   "cell_type": "code",
   "execution_count": null,
   "metadata": {},
   "outputs": [],
   "source": [
    "from lipiMap.utils.annotations import compute_exclusivity_score\n",
    "\n",
    "compute_exclusivity_score(adata, mask_framework)\n",
    "# adata.uns['exclusivity_score']"
   ]
  },
  {
   "cell_type": "code",
   "execution_count": null,
   "metadata": {},
   "outputs": [],
   "source": [
    "from lipiMap.utils.annotations import compute_density_score\n",
    "\n",
    "compute_density_score(adata, mask_framework)\n",
    "# adata.uns['density_score']"
   ]
  },
  {
   "cell_type": "code",
   "execution_count": null,
   "metadata": {},
   "outputs": [],
   "source": [
    "from lipiMap.utils.annotations import rank_LPs\n",
    "\n",
    "rank_LPs(adata)\n",
    "# adata.uns['final_score']"
   ]
  },
  {
   "cell_type": "markdown",
   "metadata": {},
   "source": [
    "Although reasonable, these scores are entirely empirical. To come up with a more statistical analysis, we exploit bootstrap replicas and distributions of `representation_scores` to assess whether to keep or filter out LPs in the dataset."
   ]
  },
  {
   "cell_type": "code",
   "execution_count": null,
   "metadata": {},
   "outputs": [],
   "source": [
    "from lipiMap.utils.annotations import representation_analysis\n",
    "\n",
    "# Compute the distribution of the representation scores after n_replicas bootstrap sampling\n",
    "distribution = representation_analysis(adata, \n",
    "                                       LION_data_handler,\n",
    "                                       data, \n",
    "                                       mask_framework,\n",
    "                                       n_replicas=10000, # ~ 33 mins\n",
    "                                       seed=0)"
   ]
  },
  {
   "cell_type": "code",
   "execution_count": null,
   "metadata": {},
   "outputs": [],
   "source": [
    "from lipiMap.utils.annotations import representation_filtering\n",
    "\n",
    "# Select the lipid programs to keep based on the distribution of the representation scores\n",
    "# Selection criterion: the representation score should be higher than the median (ub=0.5)\n",
    "# of the corresponding distribution\n",
    "to_keep = representation_filtering(adata, \n",
    "                                   mask_framework, \n",
    "                                   distribution,\n",
    "                                   lb=40,\n",
    "                                   ub=50,\n",
    "                                   plot=True)"
   ]
  },
  {
   "cell_type": "code",
   "execution_count": null,
   "metadata": {},
   "outputs": [],
   "source": [
    "# Manually remove the programs that did not pass the representation filtering\n",
    "to_remove = [program for program in adata.uns[mask_framework] if program not in to_keep]\n",
    "manual_programs_removal(adata, mask_framework, to_remove)"
   ]
  },
  {
   "cell_type": "markdown",
   "metadata": {},
   "source": [
    "### Enrichment Scores\n",
    "Once the latent space is complete, the user can add LPs enrichment scores:\n",
    "```\n",
    "lp_enrichment = mean((X_lp - mean(X_lp)) / std(X_lp))\n",
    "```\n",
    "\n",
    "where `X_lp` represents the expression values of lipids associated with the lipid program, `mean(X_lp)` is the mean expression value of those lipids, and `std(X_lp)` is the standard deviation of those expression values."
   ]
  },
  {
   "cell_type": "code",
   "execution_count": null,
   "metadata": {},
   "outputs": [],
   "source": [
    "from lipiMap.utils.annotations import add_lipid_program_enrichment\n",
    "\n",
    "add_lipid_program_enrichment(adata, mask_framework)"
   ]
  },
  {
   "cell_type": "code",
   "execution_count": null,
   "metadata": {},
   "outputs": [],
   "source": [
    "print('--- LATENT SPACE DESIGN DONE!! Ready to train ---')\n",
    "print(adata)\n",
    "print(adata.varm[mask_framework].shape)"
   ]
  },
  {
   "cell_type": "markdown",
   "metadata": {},
   "source": [
    "## Training LipiMap"
   ]
  },
  {
   "cell_type": "code",
   "execution_count": null,
   "metadata": {},
   "outputs": [],
   "source": [
    "# Define the architecture parameters\n",
    "percentage = 1                                  # Full brain\n",
    "condition_key = None                            # In case of conditional VAE\n",
    "mask_key = mask_framework\n",
    "soft_mask = False                               # Allow soft membership of lipids to lipid programs\n",
    "hidden_layer_sizes = [256, 256, 256, 128]       # Define the architecture of the encoder (the decoeder is linear)\n",
    "use_bn = False                                  # Batch normalization\n",
    "use_ln = True                                   # Layer normalization"
   ]
  },
  {
   "cell_type": "code",
   "execution_count": null,
   "metadata": {},
   "outputs": [],
   "source": [
    "# Define the training parameters\n",
    "k = 1                                           # Weighted MSE loss parameter\n",
    "q = 0.1                                         # Weighted MSE loss parameter\n",
    "n_epochs = 500                                  # Number of epochs\n",
    "batch_size = 256                                # Batch size\n",
    "dr_rate = 0.01                                  # Dropout rate\n",
    "initial_lr = 0.01                               # Initial learning rate\n",
    "weight_decay = 0.                               # Weight decay     \n",
    "alpha_kl = 0.7                                  # KL divergence weight\n",
    "alpha_gl = 0.1                                  # Group Lasso weight ***\n",
    "alpha_l1 = None                                 # L1 regularization weight (in case of soft membership)\n",
    "\n",
    "initialization = 'pca'                          # Initialization of the decoder weights\n",
    "clipping_decoder_weights = True                 # Clip the decoder weights between 0 and 1 to ensure interpretability\n",
    "\n",
    "# *** Set the `alpha_gl` hyperparameter. This regulates the strength of group lasso regularization of LPs. \n",
    "# *** Higher value means that a larger number of LPs will be deactivated \n",
    "# *** during training depending on their contribution to the reconstruction loss.\n",
    "# *** Group Lasso regularization is indeed meaningful when the number of LPs is large (not the case of lipiMap)."
   ]
  },
  {
   "cell_type": "code",
   "execution_count": null,
   "metadata": {},
   "outputs": [],
   "source": [
    "# Set up the model to prepare for training\n",
    "\n",
    "from lipiMap.models import LIPIMAP\n",
    "\n",
    "intr_cvae = LIPIMAP(\n",
    "    adata=adata,                                        # Anndata object (input data)\n",
    "    lipids_format=final_format,                         # Final format of the lipidomics data (for saving and loading purposes)\n",
    "    mask_key=mask_key,                                  # Mask key (name of the binary mask)\n",
    "    soft_mask=soft_mask,                                # Soft mask\n",
    "    condition_key=condition_key,                        # Condition key (in case of conditional VAE)\n",
    "    hidden_layer_sizes=hidden_layer_sizes,              # Hidden layer sizes\n",
    "    use_bn=use_bn,                                      # Batch normalization\n",
    "    use_ln=use_ln,                                      # Layer normalization\n",
    "\n",
    "    recon_loss='mse',                                   # Reconstruction loss\n",
    "    dr_rate=dr_rate,                                    # Dropout rate\n",
    "\n",
    "    clipping_decoder_weights=clipping_decoder_weights,\n",
    ")"
   ]
  },
  {
   "cell_type": "code",
   "execution_count": null,
   "metadata": {},
   "outputs": [],
   "source": [
    "# Set early stopping parameters to prevent overfitting\n",
    "# Check the early stopping class for more details in ./lipiMap/utils/monitor.py\n",
    "\n",
    "early_stopping_kwargs = {\n",
    "    \"early_stopping_metric\": \"val_unweighted_loss\", # val_unweighted_loss\n",
    "    \"threshold\": 0,\n",
    "    \"patience\": 100,\n",
    "    \"reduce_lr\": True,\n",
    "    \"lr_patience\": 13,\n",
    "    \"lr_factor\": 0.1,\n",
    "}"
   ]
  },
  {
   "cell_type": "code",
   "execution_count": null,
   "metadata": {},
   "outputs": [],
   "source": [
    "# Train the model\n",
    "\n",
    "intr_cvae.train(\n",
    "    q = q,\n",
    "    k = k,\n",
    "    n_epochs=n_epochs,\n",
    "    alpha_kl=alpha_kl,\n",
    "    alpha_gl=alpha_gl,\n",
    "    alpha_epoch_anneal=None,\n",
    "    # alpha_l1=0.,\n",
    "\n",
    "    lr=initial_lr,\n",
    "    \n",
    "    # train_frac=0.9, \n",
    "    batch_size=batch_size,\n",
    "    weight_decay=weight_decay, \n",
    "    use_early_stopping=True,\n",
    "    early_stopping_kwargs=early_stopping_kwargs,\n",
    "\n",
    "    monitor_only_val=False,\n",
    "    seed=2024,\n",
    "    save_logs=True,\n",
    "    # print_stats=True,\n",
    "\n",
    "    initialization=initialization,\n",
    ")"
   ]
  },
  {
   "cell_type": "code",
   "execution_count": null,
   "metadata": {},
   "outputs": [],
   "source": [
    "# Save the model\n",
    "save_path = LIPIMAP.create_model_directory(\n",
    "                    dataset=dataset_name,\n",
    "                    lipids_format=final_format,\n",
    "                    mask_key=mask_key,\n",
    "                    soft_mask=soft_mask,\n",
    "                    condition_key=condition_key,\n",
    "                    hidden_layer_sizes=hidden_layer_sizes,\n",
    "                    use_bn=use_bn,\n",
    "                    \n",
    "                    percentage=percentage, \n",
    "                    n_epochs=n_epochs,\n",
    "                    batch_size=batch_size,\n",
    "                    dr_rate=dr_rate,\n",
    "                    initial_lr=initial_lr,\n",
    "                    weight_decay=weight_decay,\n",
    "                    alpha_kl=alpha_kl,\n",
    "                    alpha_gl=alpha_gl,\n",
    "                    alpha_l1=alpha_l1,\n",
    "                    initialization=initialization,\n",
    "                    clipping_decoder_weights=clipping_decoder_weights,)\n",
    "\n",
    "# add manually additional labels to the folder if needed\n",
    "# save_path = save_path + '_additional_labels'\n",
    "save_path = os.path.join(results_path, save_path)\n",
    "\n",
    "if not os.path.exists(save_path):\n",
    "    os.makedirs(save_path)\n",
    "\n",
    "intr_cvae.save(save_path, overwrite=True)\n",
    "print(f\"Model saved in {save_path}\")"
   ]
  },
  {
   "cell_type": "code",
   "execution_count": null,
   "metadata": {},
   "outputs": [],
   "source": [
    "# Load the model\n",
    "from lipiMap.models import LIPIMAP\n",
    "\n",
    "load_path = LIPIMAP.create_model_directory(\n",
    "                    dataset=dataset_name,\n",
    "                    lipids_format=final_format,\n",
    "                    mask_key=mask_framework,\n",
    "                    soft_mask=soft_mask,\n",
    "                    condition_key=condition_key,\n",
    "                    hidden_layer_sizes=hidden_layer_sizes,\n",
    "                    use_bn=use_bn,\n",
    "                    \n",
    "                    percentage=percentage, \n",
    "                    n_epochs=n_epochs,\n",
    "                    batch_size=batch_size,\n",
    "                    dr_rate=dr_rate,\n",
    "                    initial_lr=initial_lr,\n",
    "                    weight_decay=weight_decay,\n",
    "                    alpha_kl=alpha_kl,\n",
    "                    alpha_gl=alpha_gl,\n",
    "                    alpha_l1=alpha_l1,\n",
    "                    initialization=initialization,\n",
    "                    clipping_decoder_weights=clipping_decoder_weights,)\n",
    "\n",
    "path = os.path.join(results_path, load_path)\n",
    "# path = '../results/norm_exp_lipids/mask_all/hard/no/encoder_l_256_256_256_128/\n",
    "#           layer_norm/LBA_Brain2_20240611_100percent_epochs500_bs256_dr0.01_\n",
    "#               lr0.01_wd0.0_kl0.7_gl0.1_l1None_initpca_clipTrue'\n",
    "model = LIPIMAP.load(dir_path=path, adata=adata)"
   ]
  },
  {
   "cell_type": "markdown",
   "metadata": {},
   "source": [
    "## Evaluating LipiMap"
   ]
  },
  {
   "cell_type": "code",
   "execution_count": null,
   "metadata": {},
   "outputs": [],
   "source": [
    "from lipiMap.plotting.lipimap_eval import LIPIMAP_EVAL\n",
    "lipimap_eval = LIPIMAP_EVAL(model=model, \n",
    "                         adata=model.adata) # adata = model.adata to be sure? check"
   ]
  },
  {
   "cell_type": "markdown",
   "metadata": {},
   "source": [
    "### Input Data Visualization"
   ]
  },
  {
   "cell_type": "code",
   "execution_count": null,
   "metadata": {},
   "outputs": [],
   "source": [
    "lipimap_eval.plot_spatial(name='LPC 18:1',\n",
    "                       space='input',\n",
    "                       cmap='inferno',\n",
    "                       sym_colorscale=False,\n",
    "                       savepath=None)\n",
    "# lipimap_eval.to_pdf(space='input',\n",
    "#                  savepath='input.pdf',\n",
    "#                  cmap='inferno',\n",
    "#                  sym_colorscale=False)"
   ]
  },
  {
   "cell_type": "markdown",
   "metadata": {},
   "source": [
    "### Output Data Visualization (Reconstruction and Residuals)"
   ]
  },
  {
   "cell_type": "code",
   "execution_count": null,
   "metadata": {},
   "outputs": [],
   "source": [
    "lipimap_eval.plot_spatial(name='LPC 18:1',\n",
    "                       space='output',\n",
    "                       cmap='inferno',\n",
    "                       sym_colorscale=False,\n",
    "                       savepath=None)\n",
    "# lipimap_eval.to_pdf(space='output',\n",
    "#                  savepath='output.pdf',\n",
    "#                  cmap='inferno',\n",
    "#                  sym_colorscale=False)"
   ]
  },
  {
   "cell_type": "code",
   "execution_count": null,
   "metadata": {},
   "outputs": [],
   "source": [
    "lipimap_eval.plot_spatial(name='LPC 18:1',\n",
    "                       space='residual',\n",
    "                       cmap='RdBu',\n",
    "                       sym_colorscale=True,\n",
    "                       savepath=None)\n",
    "# lipimap_eval.to_pdf(space='residual',\n",
    "#                  savepath='residual.pdf',\n",
    "#                  cmap='RdBu',\n",
    "#                  sym_colorscale=True)"
   ]
  },
  {
   "cell_type": "markdown",
   "metadata": {},
   "source": [
    "### Latent Space Visualization"
   ]
  },
  {
   "cell_type": "code",
   "execution_count": null,
   "metadata": {},
   "outputs": [],
   "source": [
    "lipimap_eval.plot_spatial(name='mitochondrion',\n",
    "                       space='latent',\n",
    "                       cmap='PuOr',\n",
    "                       sym_colorscale=False,\n",
    "                       savepath=None)\n",
    "# lipimap_eval.to_pdf(space='latent',\n",
    "#                  savepath='latent.pdf',\n",
    "#                  cmap='PuOr',\n",
    "#                  sym_colorscale=False)"
   ]
  },
  {
   "cell_type": "markdown",
   "metadata": {},
   "source": [
    "### Decoder Weights"
   ]
  },
  {
   "cell_type": "code",
   "execution_count": null,
   "metadata": {},
   "outputs": [],
   "source": [
    "lipimap_eval.plot_decoder_weights()"
   ]
  },
  {
   "cell_type": "code",
   "execution_count": null,
   "metadata": {},
   "outputs": [],
   "source": [
    "lipimap_eval.plot_LPs_vs_feature(feature='level_6')"
   ]
  }
 ],
 "metadata": {
  "kernelspec": {
   "display_name": "test_lipimap",
   "language": "python",
   "name": "python3"
  },
  "language_info": {
   "codemirror_mode": {
    "name": "ipython",
    "version": 3
   },
   "file_extension": ".py",
   "mimetype": "text/x-python",
   "name": "python",
   "nbconvert_exporter": "python",
   "pygments_lexer": "ipython3",
   "version": "3.12.2"
  }
 },
 "nbformat": 4,
 "nbformat_minor": 4
}
